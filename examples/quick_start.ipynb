{
 "cells": [
  {
   "cell_type": "markdown",
   "metadata": {
    "collapsed": true,
    "pycharm": {
     "name": "#%% md\n"
    }
   },
   "source": [
    "# CurvLearn Tutorial\n",
    "In this  tutorial, you will learn how to build a non-Euclidean binary classification model, including\n",
    "- define manifold and riemannian tensors.\n",
    "- build non-Euclidean models from manifold operations.\n",
    "- define loss function and apply riemannian optimization.\n",
    "\n",
    "Let's start!"
   ]
  },
  {
   "cell_type": "code",
   "execution_count": 1,
   "metadata": {
    "pycharm": {
     "name": "#%%\n"
    }
   },
   "outputs": [],
   "source": [
    "from __future__ import absolute_import\n",
    "from __future__ import division\n",
    "from __future__ import print_function\n",
    "\n",
    "import os,sys\n",
    "sys.path.append(os.path.dirname(os.path.dirname(sys.path[0])))\n",
    "\n",
    "import numpy as np\n",
    "import tensorflow as tf"
   ]
  },
  {
   "cell_type": "markdown",
   "metadata": {},
   "source": [
    "Define hyperparameters."
   ]
  },
  {
   "cell_type": "code",
   "execution_count": 2,
   "metadata": {},
   "outputs": [],
   "source": [
    "epochs = 500\n",
    "batch_size = 1024\n",
    "log_steps = 100\n",
    "learning_rate = 1e-3"
   ]
  },
  {
   "cell_type": "markdown",
   "metadata": {
    "pycharm": {
     "name": "#%% md\n"
    }
   },
   "source": [
    "CurvLearn now supports the following manifolds\n",
    "- Constant curvature manifolds\n",
    "    - ```curvlearn.manifolds.Euclidean``` - Euclidean space with zero curvature.\n",
    "    - ```curvlearn.manifolds.Stereographic``` - Constant curvature stereographic projection model. The curvature can be positive, negative or zero.\n",
    "    - ```curvlearn.manifolds.PoincareBall``` - The stereographic projection of the Lorentz model with negative curvature.\n",
    "    - ```curvlearn.manifolds.ProjectedSphere``` - The stereographic projection of the sphere model with positive curvature.\n",
    "- Mixed curvature manifolds\n",
    "    - ```curvlearn.manifolds.Product``` - Mixed-curvature space consists of multiple manifolds with different curvatures.\n",
    "\n",
    "In this tutorial, we use the stereographic model with trainable curvature. "
   ]
  },
  {
   "cell_type": "code",
   "execution_count": 3,
   "metadata": {
    "pycharm": {
     "name": "#%%\n"
    }
   },
   "outputs": [
    {
     "name": "stdout",
     "output_type": "stream",
     "text": [
      "WARNING:tensorflow:From /var/folders/yb/bnmcr5gd40bc3s00cshy0gr80000gp/T/ipykernel_65115/2369927432.py:4: The name tf.get_variable is deprecated. Please use tf.compat.v1.get_variable instead.\n",
      "\n",
      "Stereographic\n"
     ]
    }
   ],
   "source": [
    "from curvlearn.manifolds import Stereographic\n",
    "\n",
    "manifold = Stereographic()\n",
    "curvature = tf.get_variable(name=\"curvature\", initializer=tf.constant(0.0, dtype=manifold.dtype), trainable=True)\n",
    "\n",
    "print(manifold.name)"
   ]
  },
  {
   "cell_type": "markdown",
   "metadata": {},
   "source": [
    "Generate random binary classification dataset.\n",
    "1 sprase feature and 8 dense features are used to predict the 0/1 label."
   ]
  },
  {
   "cell_type": "code",
   "execution_count": 4,
   "metadata": {},
   "outputs": [
    {
     "name": "stdout",
     "output_type": "stream",
     "text": [
      "WARNING:tensorflow:From /var/folders/yb/bnmcr5gd40bc3s00cshy0gr80000gp/T/ipykernel_65115/3446372793.py:16: The name tf.data.make_one_shot_iterator is deprecated. Please use tf.compat.v1.data.make_one_shot_iterator instead.\n",
      "\n"
     ]
    }
   ],
   "source": [
    "global_step = tf.get_variable(name='global_step',initializer=tf.constant(0), trainable=False)\n",
    "\n",
    "dense = np.random.rand(10000, 8)\n",
    "sparse = np.random.randint(0, 1000, [10000, 1])\n",
    "labels = np.random.choice([0, 1], size=10000, replace=True)\n",
    "\n",
    "dataset = tf.data.Dataset.from_tensor_slices(\n",
    "    {\n",
    "        'dense': tf.cast(dense, tf.float32),\n",
    "        'sparse': tf.cast(sparse, tf.int32),\n",
    "        'labels': tf.cast(labels, tf.float32)\n",
    "    }\n",
    ")\n",
    "dataset = dataset.shuffle(batch_size * 10).batch(batch_size, drop_remainder=False).repeat(epochs)\n",
    "\n",
    "iterator = tf.data.make_one_shot_iterator(dataset)\n",
    "batch = iterator.get_next()\n",
    "dense, sparse, labels = batch['dense'], batch['sparse'], batch['labels']"
   ]
  },
  {
   "cell_type": "markdown",
   "metadata": {},
   "source": [
    "Define tensors in the specific manifold can be simply realized through the wrapper function `manifold.variable`.\n",
    "According to the variable name, tensors are optimized in different ways.\n",
    "- \"*RiemannianParameter*\" is contained in the variable name: the variable is a riemannian tensor, and should be optimized by riemannian optimizers.\n",
    "- Otherwise: the variable is an euclidean(tangent) tensor and is projected into the manifold. In this case, riemannian optimizers behave equivalently to vanilla euclidean optimizers.\n",
    "\n",
    "Here we optimize dense embedding in euclidean space and sparse embedding in curved space."
   ]
  },
  {
   "cell_type": "code",
   "execution_count": 5,
   "metadata": {},
   "outputs": [
    {
     "name": "stdout",
     "output_type": "stream",
     "text": [
      "WARNING:tensorflow:From /Users/zrxu/opt/anaconda3/envs/dev/lib/python3.7/site-packages/tensorflow_core/python/ops/clip_ops.py:172: where (from tensorflow.python.ops.array_ops) is deprecated and will be removed in a future version.\n",
      "Instructions for updating:\n",
      "Use tf.where in 2.0, which has the same broadcast rule as np.where\n"
     ]
    }
   ],
   "source": [
    "embedding_table = tf.get_variable(\n",
    "    name='RiemannianParameter/embedding',\n",
    "    shape=(1000, 8),\n",
    "    dtype=manifold.dtype,\n",
    "    initializer=tf.truncated_normal_initializer(0.001)\n",
    ")\n",
    "embedding_table = manifold.variable(embedding_table, c=curvature)\n",
    "sparse_embedding = tf.squeeze(tf.nn.embedding_lookup(embedding_table, sparse), axis=1)\n",
    "dense_embedding = manifold.variable(dense, c=curvature)"
   ]
  },
  {
   "cell_type": "markdown",
   "metadata": {},
   "source": [
    "Building riemannian neural networks requires replacing euclidean tensor operations with manifold operations.\n",
    "\n",
    "CurvLearn now supports the following basic operations.\n",
    "- ```variable(t, c)``` - Defines a riemannian variable from manifold or tangent space at origin according to its name.\n",
    "- ```to_manifold(t, c, base)``` - Converts a tensor ```t``` in the tangent space of ```base``` point to the manifold.\n",
    "- ```to_tangent(t, c, base)``` - Converts a tensor ```t``` in the manifold to the tangent space of ```base``` point.\n",
    "- ```weight_sum(tensor_list, a, c)``` - Computes the sum of tensor list ```tensor_list``` with weight list ```a```.\n",
    "- ```mean(t, c, axis)``` - Computes the average of elements along ```axis``` dimension of a tensor ```t```.\n",
    "- ```sum(t, c, axis)``` - Computes the sum of elements along ```axis``` dimension of a tensor ```t```.\n",
    "- ```concat(tensor_list, c, axis)``` - Concatenates tensor list ```tensor_list``` along ```axis``` dimension.\n",
    "- ```matmul(t, m, c)``` - Multiplies tensor ```t``` by euclidean matrix ```m```.\n",
    "- ```add(x, y, c)``` - Adds tensor ```x``` and tensor ```y```.\n",
    "- ```add_bias(t, b, c)``` - Adds a euclidean bias vector ```b``` to tensor ```t```.\n",
    "- ```activation(t, c_in, c_out, act)``` - Computes the value of  activation function ```act``` for the input tensor ```t```.\n",
    "- ```linear(t, in_dim, out_dim, c_in, c_out, act, scope)``` - Computes the linear transformation for the input tensor ```t```.\n",
    "- ```distance(src, tar, c)``` - Computes the squared geodesic/distance between ```src``` and ```tar```.\n",
    "\n",
    "Complex operations can be decomposed into basic operations explicitly or realized in tangent space implicitly.\n",
    "\n",
    "Here we use two fully-connected layers as our model backbone."
   ]
  },
  {
   "cell_type": "code",
   "execution_count": 6,
   "metadata": {},
   "outputs": [
    {
     "name": "stdout",
     "output_type": "stream",
     "text": [
      "WARNING:tensorflow:From /Users/zrxu/Desktop/HyperbolicTrainer-OpenSource/curvlearn/manifolds/manifold.py:228: The name tf.variable_scope is deprecated. Please use tf.compat.v1.variable_scope instead.\n",
      "\n",
      "WARNING:tensorflow:From /Users/zrxu/Desktop/HyperbolicTrainer-OpenSource/curvlearn/manifolds/manifold.py:228: The name tf.AUTO_REUSE is deprecated. Please use tf.compat.v1.AUTO_REUSE instead.\n",
      "\n",
      "WARNING:tensorflow:From /Users/zrxu/Desktop/HyperbolicTrainer-OpenSource/curvlearn/manifolds/manifold.py:233: calling GlorotNormal.__init__ (from tensorflow.python.ops.init_ops) with dtype is deprecated and will be removed in a future version.\n",
      "Instructions for updating:\n",
      "Call initializer instance with the dtype argument instead of passing it to the constructor\n"
     ]
    }
   ],
   "source": [
    "x = manifold.concat([sparse_embedding, dense_embedding], axis=1, c=curvature)\n",
    "x = manifold.linear(x, 16, 256, curvature, curvature, tf.nn.elu, 'hidden_layer_1')\n",
    "x = manifold.linear(x, 256, 32, curvature, curvature, tf.nn.elu, 'hidden_layer_2')"
   ]
  },
  {
   "cell_type": "markdown",
   "metadata": {},
   "source": [
    "Notice non-euclidean geometry can only be expressed by geodesics, we use the fermi-dirac decoder to decode the distance and generate the probabilities. Cross entropy is used as the loss function."
   ]
  },
  {
   "cell_type": "code",
   "execution_count": 7,
   "metadata": {},
   "outputs": [],
   "source": [
    "origin = manifold.proj(tf.zeros([32], dtype=manifold.dtype), c=curvature)\n",
    "distance = tf.squeeze(manifold.distance(x, origin, c=curvature))\n",
    "loss = tf.reduce_mean(tf.nn.sigmoid_cross_entropy_with_logits(labels=labels, logits=1.0 - 1.0*distance))"
   ]
  },
  {
   "cell_type": "markdown",
   "metadata": {},
   "source": [
    "CurvLearn now supports the following optimizers.\n",
    "- ```curvlearn.optimizers.rsgd``` - Riemannian stochastic gradient optimizer.\n",
    "- ```curvlearn.optimizers.radagrad``` - Riemannian Adagrad optimizer.\n",
    "- ```curvlearn.optimizers.radam``` - Riemannian Adam optimizer.\n",
    "\n",
    "Here we apply riemannian adam optimizer to minimize the loss."
   ]
  },
  {
   "cell_type": "code",
   "execution_count": 8,
   "metadata": {},
   "outputs": [
    {
     "name": "stdout",
     "output_type": "stream",
     "text": [
      "WARNING:tensorflow:From /Users/zrxu/Desktop/HyperbolicTrainer-OpenSource/curvlearn/optimizers/rsgd.py:11: The name tf.train.GradientDescentOptimizer is deprecated. Please use tf.compat.v1.train.GradientDescentOptimizer instead.\n",
      "\n",
      "WARNING:tensorflow:From /Users/zrxu/Desktop/HyperbolicTrainer-OpenSource/curvlearn/optimizers/radagrad.py:11: The name tf.train.AdagradOptimizer is deprecated. Please use tf.compat.v1.train.AdagradOptimizer instead.\n",
      "\n",
      "WARNING:tensorflow:From /Users/zrxu/Desktop/HyperbolicTrainer-OpenSource/curvlearn/optimizers/radam.py:11: The name tf.train.AdamOptimizer is deprecated. Please use tf.compat.v1.train.AdamOptimizer instead.\n",
      "\n"
     ]
    },
    {
     "name": "stderr",
     "output_type": "stream",
     "text": [
      "/Users/zrxu/opt/anaconda3/envs/dev/lib/python3.7/site-packages/tensorflow_core/python/framework/indexed_slices.py:424: UserWarning: Converting sparse IndexedSlices to a dense Tensor of unknown shape. This may consume a large amount of memory.\n",
      "  \"Converting sparse IndexedSlices to a dense Tensor of unknown shape. \"\n"
     ]
    }
   ],
   "source": [
    "from curvlearn.optimizers import RAdam\n",
    "optimizer = RAdam(learning_rate=learning_rate, manifold=manifold, c=curvature)\n",
    "train_op = optimizer.minimize(loss)"
   ]
  },
  {
   "cell_type": "markdown",
   "metadata": {},
   "source": [
    "Now a non-Euclidean binary classification model is built successfully.\n",
    "\n",
    "Let's check the performance!"
   ]
  },
  {
   "cell_type": "code",
   "execution_count": 9,
   "metadata": {},
   "outputs": [
    {
     "name": "stdout",
     "output_type": "stream",
     "text": [
      "WARNING:tensorflow:From /var/folders/yb/bnmcr5gd40bc3s00cshy0gr80000gp/T/ipykernel_65115/312919670.py:1: The name tf.get_collection is deprecated. Please use tf.compat.v1.get_collection instead.\n",
      "\n",
      "WARNING:tensorflow:From /var/folders/yb/bnmcr5gd40bc3s00cshy0gr80000gp/T/ipykernel_65115/312919670.py:1: The name tf.GraphKeys is deprecated. Please use tf.compat.v1.GraphKeys instead.\n",
      "\n",
      "WARNING:tensorflow:From /var/folders/yb/bnmcr5gd40bc3s00cshy0gr80000gp/T/ipykernel_65115/312919670.py:4: The name tf.global_variables_initializer is deprecated. Please use tf.compat.v1.global_variables_initializer instead.\n",
      "\n",
      "WARNING:tensorflow:From /var/folders/yb/bnmcr5gd40bc3s00cshy0gr80000gp/T/ipykernel_65115/312919670.py:5: The name tf.local_variables_initializer is deprecated. Please use tf.compat.v1.local_variables_initializer instead.\n",
      "\n",
      "WARNING:tensorflow:From /var/folders/yb/bnmcr5gd40bc3s00cshy0gr80000gp/T/ipykernel_65115/312919670.py:6: The name tf.ConfigProto is deprecated. Please use tf.compat.v1.ConfigProto instead.\n",
      "\n",
      "WARNING:tensorflow:From /var/folders/yb/bnmcr5gd40bc3s00cshy0gr80000gp/T/ipykernel_65115/312919670.py:9: The name tf.Session is deprecated. Please use tf.compat.v1.Session instead.\n",
      "\n"
     ]
    },
    {
     "name": "stderr",
     "output_type": "stream",
     "text": [
      "2021-09-13 20:45:04.958438: I tensorflow/core/platform/cpu_feature_guard.cc:145] This TensorFlow binary is optimized with Intel(R) MKL-DNN to use the following CPU instructions in performance critical operations:  SSE4.1 SSE4.2\n",
      "To enable them in non-MKL-DNN operations, rebuild TensorFlow with the appropriate compiler flags.\n",
      "2021-09-13 20:45:04.958975: I tensorflow/core/common_runtime/process_util.cc:115] Creating new thread pool with default inter op setting: 8. Tune using inter_op_parallelism_threads for best performance.\n"
     ]
    },
    {
     "name": "stdout",
     "output_type": "stream",
     "text": [
      "No.1 batches, curvature 0.0009999870089814067, loss 4.15216064453125\n",
      "No.101 batches, curvature 0.015087426640093327, loss 0.685605525970459\n",
      "No.201 batches, curvature 0.01416726689785719, loss 0.6863309144973755\n",
      "No.301 batches, curvature 0.012791029177606106, loss 0.687471866607666\n",
      "No.401 batches, curvature 0.011037757620215416, loss 0.683305561542511\n",
      "No.501 batches, curvature 0.008938672952353954, loss 0.6784000396728516\n",
      "No.601 batches, curvature 0.006404845044016838, loss 0.6809292435646057\n",
      "No.701 batches, curvature 0.003494514850899577, loss 0.6842485666275024\n",
      "No.801 batches, curvature -0.00011886192805832252, loss 0.6720203161239624\n",
      "No.901 batches, curvature -0.00437968410551548, loss 0.6828656196594238\n",
      "No.1001 batches, curvature -0.009167192503809929, loss 0.6769402027130127\n",
      "No.1101 batches, curvature -0.014364367350935936, loss 0.6710186004638672\n",
      "No.1201 batches, curvature -0.01929965801537037, loss 0.6705893278121948\n",
      "No.1301 batches, curvature -0.021828362718224525, loss 0.6604957580566406\n",
      "No.1401 batches, curvature -0.023781485855579376, loss 0.6566264033317566\n",
      "No.1501 batches, curvature -0.0244560819119215, loss 0.6532430648803711\n",
      "No.1601 batches, curvature -0.025846678763628006, loss 0.6565299034118652\n",
      "No.1701 batches, curvature -0.026924405246973038, loss 0.65833979845047\n",
      "No.1801 batches, curvature -0.027399133890867233, loss 0.6574156284332275\n",
      "No.1901 batches, curvature -0.026404036208987236, loss 0.6439260244369507\n",
      "No.2001 batches, curvature -0.026586255058646202, loss 0.6550269722938538\n",
      "No.2101 batches, curvature -0.02735009789466858, loss 0.6430050730705261\n",
      "No.2201 batches, curvature -0.027363484725356102, loss 0.6564239859580994\n",
      "No.2301 batches, curvature -0.027439074590802193, loss 0.6392418146133423\n",
      "No.2401 batches, curvature -0.02728525921702385, loss 0.6355199217796326\n",
      "No.2501 batches, curvature -0.028032531961798668, loss 0.6438223123550415\n",
      "No.2601 batches, curvature -0.028591420501470566, loss 0.6339942216873169\n",
      "No.2701 batches, curvature -0.027431771159172058, loss 0.6385596990585327\n",
      "No.2801 batches, curvature -0.027825377881526947, loss 0.6249996423721313\n",
      "No.2901 batches, curvature -0.027861829847097397, loss 0.6447292566299438\n",
      "No.3001 batches, curvature -0.02826608531177044, loss 0.6402655243873596\n",
      "No.3101 batches, curvature -0.02996218577027321, loss 0.6335546970367432\n",
      "No.3201 batches, curvature -0.029103394597768784, loss 0.6225643157958984\n",
      "No.3301 batches, curvature -0.029440846294164658, loss 0.6221449375152588\n",
      "No.3401 batches, curvature -0.029576502740383148, loss 0.6257632970809937\n",
      "No.3501 batches, curvature -0.03060118667781353, loss 0.6225975751876831\n",
      "No.3601 batches, curvature -0.030939778313040733, loss 0.62050461769104\n",
      "No.3701 batches, curvature -0.03058050200343132, loss 0.6274751424789429\n",
      "No.3801 batches, curvature -0.03236301988363266, loss 0.6217280626296997\n",
      "No.3901 batches, curvature -0.03321694955229759, loss 0.6162920594215393\n",
      "No.4001 batches, curvature -0.03369870409369469, loss 0.6077128052711487\n",
      "No.4101 batches, curvature -0.03440823033452034, loss 0.604566752910614\n",
      "No.4201 batches, curvature -0.03539799898862839, loss 0.6040174961090088\n",
      "No.4301 batches, curvature -0.03451607748866081, loss 0.6107020378112793\n",
      "No.4401 batches, curvature -0.03630506619811058, loss 0.6068554520606995\n",
      "No.4501 batches, curvature -0.0361245796084404, loss 0.5940432548522949\n",
      "No.4601 batches, curvature -0.03746137395501137, loss 0.5942770838737488\n",
      "No.4701 batches, curvature -0.03746339678764343, loss 0.6063296794891357\n",
      "No.4801 batches, curvature -0.037172332406044006, loss 0.6112375259399414\n",
      "No.4901 batches, curvature -0.03958689421415329, loss 0.5931428670883179\n",
      "Finish train\n"
     ]
    }
   ],
   "source": [
    "ops = [train_op, curvature, loss] + tf.get_collection(tf.GraphKeys.UPDATE_OPS)\n",
    "\n",
    "batch_idx = 0\n",
    "global_init = tf.global_variables_initializer()\n",
    "local_init = tf.local_variables_initializer()\n",
    "cp = tf.ConfigProto()\n",
    "cp.gpu_options.allow_growth = True\n",
    "\n",
    "with tf.Session(config=cp) as sess:\n",
    "    sess.run([global_init, local_init])\n",
    "    while True:\n",
    "        try:\n",
    "            batch_idx += 1\n",
    "            _, c, loss = sess.run(ops)\n",
    "            if batch_idx % log_steps == 1:\n",
    "                print('No.{} batches, curvature {}, loss {}'.format(batch_idx, c, loss))\n",
    "\n",
    "        except tf.errors.OutOfRangeError:\n",
    "            print('Finish train')\n",
    "            break"
   ]
  },
  {
   "cell_type": "markdown",
   "metadata": {},
   "source": [
    "Since our dataset is generated without any geometry prior, the curvature is trained to be near zero and the space is almost euclidean. \n",
    "\n",
    "Check performance on real dataset([recommendation](hyperml/README.md), [link prediction](hgcn/README.md), [tree pretrain](tree_pretrain/README.md)) and see the advantages of non-euclidean geometry."
   ]
  }
 ],
 "metadata": {
  "kernelspec": {
   "display_name": "Python 3 (ipykernel)",
   "language": "python",
   "name": "python3"
  },
  "language_info": {
   "codemirror_mode": {
    "name": "ipython",
    "version": 3
   },
   "file_extension": ".py",
   "mimetype": "text/x-python",
   "name": "python",
   "nbconvert_exporter": "python",
   "pygments_lexer": "ipython3",
   "version": "3.7.10"
  }
 },
 "nbformat": 4,
 "nbformat_minor": 1
}
